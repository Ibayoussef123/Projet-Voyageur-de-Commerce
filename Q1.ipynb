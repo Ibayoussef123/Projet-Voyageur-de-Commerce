{
 "cells": [
  {
   "cell_type": "code",
   "execution_count": 1,
   "metadata": {},
   "outputs": [],
   "source": [
    "import pandas as pd\n",
    "import numpy as np\n",
    "import time\n",
    "from itertools import permutations"
   ]
  },
  {
   "cell_type": "code",
   "execution_count": 2,
   "metadata": {},
   "outputs": [],
   "source": [
    "# Charger les données depuis le CSV\n",
    "df = pd.read_csv('data/selected.csv')\n"
   ]
  },
  {
   "cell_type": "code",
   "execution_count": 13,
   "metadata": {},
   "outputs": [],
   "source": [
    "# Nombre de villes\n",
    "nb_villes = 7"
   ]
  },
  {
   "cell_type": "code",
   "execution_count": 5,
   "metadata": {},
   "outputs": [],
   "source": [
    "# Calculer la distance entre deux villes en utilisant leurs coordonnées\n",
    "def calcul_distance(ville1, ville2):\n",
    "    lat1, lon1 = ville1[' Latitude '], ville1[' Longitude ']\n",
    "    lat2, lon2 = ville2[' Latitude '], ville2[' Longitude ']\n",
    "    # Utiliser la formule de distance entre deux points géographiques\n",
    "    # Ici, on utilise la distance en ligne droite (hypoténuse)\n",
    "    return np.sqrt((lat2 - lat1)**2 + (lon2 - lon1)**2)"
   ]
  },
  {
   "cell_type": "code",
   "execution_count": 14,
   "metadata": {},
   "outputs": [
    {
     "name": "stdout",
     "output_type": "stream",
     "text": [
      "Chemin optimal: (1, 6, 2, 3, 4, 0, 5)\n",
      "Distance minimale: 27.02929563966357\n",
      "Temps d'exécution: 5.40225625038147 secondes\n"
     ]
    }
   ],
   "source": [
    "# Initialiser la distance minimale à une valeur élevée\n",
    "min_total_distance = float('inf')\n",
    "chemin_optimal = None\n",
    "\n",
    "# Générer toutes les permutations des indices des villes\n",
    "all_permutations = permutations(range(nb_villes))\n",
    "\n",
    "start_time = time.time()\n",
    "# Parcourir toutes les permutations et trouver la plus courte distance\n",
    "for perm in all_permutations:\n",
    "    total_distance = 0\n",
    "    for i in range(nb_villes):\n",
    "        # Calculer la distance entre la ville i et la ville suivante dans la permutation\n",
    "        total_distance += calcul_distance(df.iloc[perm[i]], df.iloc[perm[(i + 1) % nb_villes]])\n",
    "    \n",
    "    # Ajouter la distance pour revenir à la ville de départ\n",
    "    total_distance += calcul_distance(df.iloc[perm[nb_villes - 1]], df.iloc[perm[0]])\n",
    "    \n",
    "    # Mettre à jour la distance minimale et le chemin optimal\n",
    "    if total_distance < min_total_distance:\n",
    "        min_total_distance = total_distance\n",
    "        chemin_optimal = perm\n",
    "\n",
    "end_time = time.time()\n",
    "execution_time = end_time - start_time\n",
    "\n",
    "# Afficher le chemin optimal et la distance minimale\n",
    "print(\"Chemin optimal:\", chemin_optimal)\n",
    "print(\"Distance minimale:\", min_total_distance)\n",
    "print(\"Temps d'exécution:\", execution_time, \"secondes\")\n"
   ]
  }
 ],
 "metadata": {
  "kernelspec": {
   "display_name": "Python 3",
   "language": "python",
   "name": "python3"
  },
  "language_info": {
   "codemirror_mode": {
    "name": "ipython",
    "version": 3
   },
   "file_extension": ".py",
   "mimetype": "text/x-python",
   "name": "python",
   "nbconvert_exporter": "python",
   "pygments_lexer": "ipython3",
   "version": "3.11.5"
  },
  "orig_nbformat": 4
 },
 "nbformat": 4,
 "nbformat_minor": 2
}
